{
  "nbformat": 4,
  "nbformat_minor": 0,
  "metadata": {
    "colab": {
      "provenance": [],
      "gpuType": "T4"
    },
    "kernelspec": {
      "name": "python3",
      "display_name": "Python 3"
    },
    "language_info": {
      "name": "python"
    }
  },
  "cells": [
    {
      "cell_type": "code",
      "execution_count": 176,
      "metadata": {
        "id": "bDgSad9tWmwf"
      },
      "outputs": [],
      "source": [
        "import numpy as np\n",
        "import matplotlib.pyplot as plt\n",
        "from scipy.stats import skew, kurtosis, entropy\n",
        "from scipy.signal import welch\n",
        "from scipy.linalg import norm\n",
        "from statsmodels.tsa.stattools import acf\n",
        "import tensorflow as tf\n",
        "from sklearn import svm\n",
        "from sklearn.model_selection import train_test_split\n",
        "from sklearn.ensemble import RandomForestClassifier\n",
        "from sklearn.metrics import accuracy_score, classification_report, confusion_matrix\n",
        "from sklearn.decomposition import PCA\n",
        "from sklearn.impute import SimpleImputer\n",
        "import os\n",
        "import sklearn\n",
        "import random"
      ]
    },
    {
      "cell_type": "code",
      "source": [
        "from google.colab import drive\n",
        "drive.mount('/content/drive')"
      ],
      "metadata": {
        "colab": {
          "base_uri": "https://localhost:8080/"
        },
        "id": "RYCX9DSdW5qX",
        "outputId": "ea378abb-eff1-4252-a0a9-b96f107538d2"
      },
      "execution_count": 129,
      "outputs": [
        {
          "output_type": "stream",
          "name": "stdout",
          "text": [
            "Drive already mounted at /content/drive; to attempt to forcibly remount, call drive.mount(\"/content/drive\", force_remount=True).\n"
          ]
        }
      ]
    },
    {
      "cell_type": "code",
      "source": [
        "seed = 42\n",
        "\n",
        "random.seed(seed)\n",
        "np.random.seed(seed)\n",
        "tf.random.set_seed(seed)\n",
        "\n"
      ],
      "metadata": {
        "id": "WGIzmHHhgf06"
      },
      "execution_count": 178,
      "outputs": []
    },
    {
      "cell_type": "markdown",
      "source": [
        "# Utility Functions"
      ],
      "metadata": {
        "id": "UBE--tnbmT8g"
      }
    },
    {
      "cell_type": "code",
      "source": [
        "# Function to clean filename\n",
        "def clean_filename(filename):\n",
        "    # Remove 'test' or 'train' from the beginning\n",
        "    if filename.startswith('test'):\n",
        "        filename = filename[4:]  # Remove 'test' (4 characters)\n",
        "    elif filename.startswith('train'):\n",
        "        filename = filename[5:]  # Remove 'train' (5 characters)\n",
        "\n",
        "    # Remove '.npy' from the end\n",
        "    if filename.endswith('.npy'):\n",
        "        filename = filename[:-4]  # Remove '.npy' (4 characters)\n",
        "\n",
        "    return filename"
      ],
      "metadata": {
        "id": "Gs0-zrGAiq2Z"
      },
      "execution_count": 131,
      "outputs": []
    },
    {
      "cell_type": "code",
      "source": [
        "# Function to process all files in a directory\n",
        "def process_directory(directory_path, data_dict):\n",
        "    for file_name in os.listdir(directory_path):\n",
        "        if file_name.endswith('.npy'):\n",
        "            file_path = os.path.join(directory_path, file_name)\n",
        "            clean_file_name = clean_filename(file_name)\n",
        "            file_data = np.load(file_path)\n",
        "            if clean_file_name in data_dict:\n",
        "                data_dict[clean_file_name] = np.concatenate((data_dict[clean_file_name], file_data), axis=0)\n",
        "            else:\n",
        "                data_dict[clean_file_name] = file_data"
      ],
      "metadata": {
        "id": "W-DNTj9syj7m"
      },
      "execution_count": 132,
      "outputs": []
    },
    {
      "cell_type": "code",
      "source": [
        "#  np function to z normlize and return array\n",
        "\n",
        "def z_normalize(array):\n",
        "  \"\"\"\n",
        "  Z-normalizes an array by subtracting the mean and dividing by the standard deviation.\n",
        "  \"\"\"\n",
        "  mean = np.mean(array, axis=0)\n",
        "  std = np.std(array, axis=0)\n",
        "  return (array - mean) / std\n"
      ],
      "metadata": {
        "id": "WJyPb9vJ54P_"
      },
      "execution_count": 133,
      "outputs": []
    },
    {
      "cell_type": "code",
      "source": [
        "\n",
        "def compute_features(data, all_activities):\n",
        "    for i in range(all_activities.shape[0]):\n",
        "\n",
        "        # Initialize an empty list to hold statistics for this sample\n",
        "        stats = []\n",
        "\n",
        "        # Maximum\n",
        "        stats.append(np.max(all_activities[i], axis = 0))\n",
        "\n",
        "        # Minimum\n",
        "        stats.append(np.min(all_activities[i], axis = 0))\n",
        "\n",
        "        # First-order mean\n",
        "        mean_val = np.mean(all_activities[i], axis = 0)\n",
        "        stats.append(mean_val)\n",
        "\n",
        "        # Standard Deviation\n",
        "        stats.append(np.std(all_activities[i], axis = 0))\n",
        "\n",
        "        # Percentile 50\n",
        "        stats.append(np.percentile(all_activities[i], 50, axis = 0))\n",
        "\n",
        "        # Percentile 80\n",
        "        stats.append(np.percentile(all_activities[i], 80, axis = 0))\n",
        "\n",
        "        # Norm of the first-order mean\n",
        "        stats.append(np.full(mean_val.shape, norm(mean_val)))\n",
        "\n",
        "        # Average (same as mean)\n",
        "        stats.append(mean_val)\n",
        "\n",
        "        # Interquartile range\n",
        "        stats.append(np.percentile(all_activities[i], 75, axis = 0) - np.percentile(all_activities[i], 25, axis = 0))\n",
        "\n",
        "        # Second-order mean\n",
        "        squared_mean = np.mean(np.square(all_activities[i]), axis = 0)\n",
        "        stats.append(squared_mean)\n",
        "\n",
        "        # Skewness\n",
        "        stats.append(skew(all_activities[i], axis = 0))\n",
        "\n",
        "        # Norm of the second-order mean\n",
        "        stats.append(np.full(squared_mean.shape, norm(squared_mean)))\n",
        "\n",
        "        # Zero-crossing\n",
        "        zero_crossings = np.sum(np.diff(np.sign(all_activities[i]), axis = 0) != 0, axis = 0)\n",
        "        stats.append(zero_crossings)\n",
        "\n",
        "        # Kurtosis\n",
        "        stats.append(kurtosis(all_activities[i], axis = 0))\n",
        "\n",
        "        # Spectral energy\n",
        "        frequencies, power_spectral_density = welch(all_activities[i], axis = 0)\n",
        "        spectral_energy = np.sum(power_spectral_density, axis = 0)\n",
        "        stats.append(spectral_energy)\n",
        "\n",
        "        # Percentile 20\n",
        "        stats.append(np.percentile(all_activities[i], 20, axis = 0))\n",
        "\n",
        "        # Auto-correlation (assuming lag 1)\n",
        "        autocorr = np.array([acf(all_activities[i][:, j], nlags = 1, fft = True)[1] for j in range(all_activities[i].shape[1])])\n",
        "        stats.append(autocorr)\n",
        "\n",
        "        # Spectral entropy\n",
        "        power_spectral_density /= np.sum(power_spectral_density, axis = 0, keepdims = True)\n",
        "        spectral_entropy = entropy(power_spectral_density, axis = 0)\n",
        "        stats.append(spectral_entropy)\n",
        "\n",
        "        # Convert list of arrays to a 2D array of shape (18, 3)\n",
        "        stats_array = np.array(stats)\n",
        "\n",
        "        # Store in pre-allocated data array\n",
        "        data[i] = stats_array\n",
        "\n"
      ],
      "metadata": {
        "id": "sNTMwqQR3WC5"
      },
      "execution_count": 134,
      "outputs": []
    },
    {
      "cell_type": "markdown",
      "source": [
        "# **Step:1+2** Reading Data and Storing in Numpy Arrays\n"
      ],
      "metadata": {
        "id": "SQIsJBk27ar1"
      }
    },
    {
      "cell_type": "code",
      "source": [
        "#to store the all the numpy arrays data\n",
        "data = {}\n",
        "\n",
        "# Define the path to the training and testing directories\n",
        "training_path = '/content/drive/MyDrive/ActivityData/training'\n",
        "testing_path = '/content/drive/MyDrive/ActivityData/testing'\n",
        "\n",
        "# Process training and testing data\n",
        "process_directory(training_path, data)\n",
        "process_directory(testing_path, data)"
      ],
      "metadata": {
        "id": "nkBZLjzmc_Y1"
      },
      "execution_count": 135,
      "outputs": []
    },
    {
      "cell_type": "markdown",
      "source": [
        "# Prepropressing of Data\n",
        "\n",
        "\n",
        "*   Applying Z-normalization\n",
        "*   Flattening single 2D example into 1D Vector\n",
        "\n"
      ],
      "metadata": {
        "id": "17mJSUxxWeD5"
      }
    },
    {
      "cell_type": "code",
      "source": [
        "# Print the shapes of the merged arrays\n",
        "for filename,np_array in data.items():\n",
        "    print(f\"{filename}: {np_array.shape}\")"
      ],
      "metadata": {
        "colab": {
          "base_uri": "https://localhost:8080/"
        },
        "id": "dSi2GVtRyuyO",
        "outputId": "6a163937-96e1-45ca-e593-0395da7032d2"
      },
      "execution_count": 136,
      "outputs": [
        {
          "output_type": "stream",
          "name": "stdout",
          "text": [
            "Accelerometer: (4572, 800, 3)\n",
            "Gyroscope: (4572, 800, 3)\n",
            "Gravity: (4572, 800, 3)\n",
            "JinsGyroscope: (4572, 80, 3)\n",
            "JinsAccelerometer: (4572, 80, 3)\n",
            "MSGyroscope: (4572, 268, 3)\n",
            "LinearAcceleration: (4572, 800, 3)\n",
            "Magnetometer: (4572, 200, 3)\n",
            "MSAccelerometer: (4572, 268, 3)\n"
          ]
        }
      ]
    },
    {
      "cell_type": "markdown",
      "source": [],
      "metadata": {
        "id": "Lc0ukiMQ8fDB"
      }
    },
    {
      "cell_type": "markdown",
      "source": [
        "#  Feature Extraction\n",
        "\n",
        "\n"
      ],
      "metadata": {
        "id": "l-S42tqv3JFg"
      }
    },
    {
      "cell_type": "code",
      "source": [
        "NUM_EXAMPLES = 4572\n",
        "\n",
        "\n",
        "for filename,data_array in data.items():\n",
        "  container = np.empty((NUM_EXAMPLES , 18,3))\n",
        "  compute_features(container ,data_array)\n",
        "  data[filename] = container"
      ],
      "metadata": {
        "id": "ODUQXBOUkvQW",
        "colab": {
          "base_uri": "https://localhost:8080/"
        },
        "outputId": "96a774b8-5e9e-4bc6-e999-5a57bc8902ce"
      },
      "execution_count": 137,
      "outputs": [
        {
          "output_type": "stream",
          "name": "stderr",
          "text": [
            "<ipython-input-134-c6e1e559c6da>:40: RuntimeWarning: Precision loss occurred in moment calculation due to catastrophic cancellation. This occurs when the data are nearly identical. Results may be unreliable.\n",
            "  stats.append(skew(all_activities[i], axis = 0))\n",
            "<ipython-input-134-c6e1e559c6da>:50: RuntimeWarning: Precision loss occurred in moment calculation due to catastrophic cancellation. This occurs when the data are nearly identical. Results may be unreliable.\n",
            "  stats.append(kurtosis(all_activities[i], axis = 0))\n",
            "/usr/local/lib/python3.10/dist-packages/statsmodels/tsa/stattools.py:693: RuntimeWarning: invalid value encountered in divide\n",
            "  acf = avf[: nlags + 1] / avf[0]\n",
            "<ipython-input-134-c6e1e559c6da>:65: RuntimeWarning: invalid value encountered in divide\n",
            "  power_spectral_density /= np.sum(power_spectral_density, axis = 0, keepdims = True)\n",
            "/usr/local/lib/python3.10/dist-packages/scipy/signal/_spectral_py.py:2017: UserWarning: nperseg = 256 is greater than input length  = 80, using nperseg = 80\n",
            "  warnings.warn('nperseg = {0:d} is greater than input length '\n",
            "/usr/local/lib/python3.10/dist-packages/scipy/signal/_spectral_py.py:2017: UserWarning: nperseg = 256 is greater than input length  = 200, using nperseg = 200\n",
            "  warnings.warn('nperseg = {0:d} is greater than input length '\n"
          ]
        }
      ]
    },
    {
      "cell_type": "markdown",
      "source": [
        "# Preprocessing on Extracted Features"
      ],
      "metadata": {
        "id": "Kx41gDHvZT8D"
      }
    },
    {
      "cell_type": "markdown",
      "source": [
        "### Z-normalization for faster convergence and better accuracy\n"
      ],
      "metadata": {
        "id": "Gt07eLJAYa6a"
      }
    },
    {
      "cell_type": "code",
      "source": [
        "\n",
        "print(f\"Before Normalization: {data['Gravity'][1][:2]}\")\n",
        "\n",
        "for filename,np_array in data.items():\n",
        "  data[filename] = z_normalize(np_array)\n",
        "\n",
        "print(f\"After Normalization: {data['Gravity'][1][:2]}\")"
      ],
      "metadata": {
        "colab": {
          "base_uri": "https://localhost:8080/"
        },
        "id": "RI6CoJs6YaXv",
        "outputId": "a13c52ad-b5e3-4ab3-f508-e40b7c7cff3d"
      },
      "execution_count": 138,
      "outputs": [
        {
          "output_type": "stream",
          "name": "stdout",
          "text": [
            "Before Normalization: [[ 0.68000001  9.80999947  0.70999998]\n",
            " [-1.26999998  9.34000015 -2.99000001]]\n",
            "After Normalization: [[-0.24926939  0.74928326  0.82207081]\n",
            " [-0.45222526  0.8670593   0.49503267]]\n"
          ]
        }
      ]
    },
    {
      "cell_type": "markdown",
      "source": [
        "### Step:3.2. Flattening the examples"
      ],
      "metadata": {
        "id": "ZcvtGsLBAXoh"
      }
    },
    {
      "cell_type": "code",
      "source": [
        "for filename,np_array in data.items():\n",
        "  data[filename] = np.reshape(np_array , (NUM_EXAMPLES, -1))\n",
        "  print(data[filename].shape)"
      ],
      "metadata": {
        "colab": {
          "base_uri": "https://localhost:8080/"
        },
        "id": "BQrpsovl_T7F",
        "outputId": "916abf47-5253-46c7-d74a-e7e1de6da0ac"
      },
      "execution_count": 139,
      "outputs": [
        {
          "output_type": "stream",
          "name": "stdout",
          "text": [
            "(4572, 54)\n",
            "(4572, 54)\n",
            "(4572, 54)\n",
            "(4572, 54)\n",
            "(4572, 54)\n",
            "(4572, 54)\n",
            "(4572, 54)\n",
            "(4572, 54)\n",
            "(4572, 54)\n"
          ]
        }
      ]
    },
    {
      "cell_type": "code",
      "source": [
        "data_arrays = np.concatenate([np_array for np_array in data.values()] , axis=1)\n",
        "data_arrays.shape"
      ],
      "metadata": {
        "colab": {
          "base_uri": "https://localhost:8080/"
        },
        "id": "WnwgYBcl38AN",
        "outputId": "081953bd-f0f7-4817-fadf-348335730a47"
      },
      "execution_count": 140,
      "outputs": [
        {
          "output_type": "execute_result",
          "data": {
            "text/plain": [
              "(4572, 486)"
            ]
          },
          "metadata": {},
          "execution_count": 140
        }
      ]
    },
    {
      "cell_type": "code",
      "source": [],
      "metadata": {
        "id": "VTvac0C-T5iQ"
      },
      "execution_count": 140,
      "outputs": []
    },
    {
      "cell_type": "markdown",
      "source": [
        "## Save the final data to avoid pre-processing again"
      ],
      "metadata": {
        "id": "7qzX3aaGA1EZ"
      }
    },
    {
      "cell_type": "code",
      "source": [
        "# Define the path to save the processed data\n",
        "save_path = '/content/drive/MyDrive/ActivityData/Processed/V3'\n",
        "\n",
        "# Create the directory if it doesn't exist\n",
        "if not os.path.exists(save_path):\n",
        "    os.makedirs(save_path)\n",
        "\n",
        "# Save the data\n",
        "np.save(os.path.join(save_path, 'Data.npy'), data, )"
      ],
      "metadata": {
        "id": "9vKaGGxRr657"
      },
      "execution_count": 141,
      "outputs": []
    },
    {
      "cell_type": "markdown",
      "source": [
        "# Load Pre-Processed Data"
      ],
      "metadata": {
        "id": "zgZPUDeDyh64"
      }
    },
    {
      "cell_type": "code",
      "source": [
        "original_data = np.load('/content/drive/MyDrive/ActivityData/Processed/Data.npy')\n",
        "train_labels = np.load('/content/drive/MyDrive/ActivityData/trainLabels.npy')\n",
        "test_labels = np.load('/content/drive/MyDrive/ActivityData/testLabels.npy')\n",
        "Labels = np.concatenate([train_labels, test_labels])\n",
        "print(Labels.shape)"
      ],
      "metadata": {
        "colab": {
          "base_uri": "https://localhost:8080/"
        },
        "id": "7tWqeDXVym-I",
        "outputId": "648e7076-d29b-4718-98d3-fd52ce168e7d"
      },
      "execution_count": 142,
      "outputs": [
        {
          "output_type": "stream",
          "name": "stdout",
          "text": [
            "(4572,)\n"
          ]
        }
      ]
    },
    {
      "cell_type": "code",
      "source": [
        "original_data.shape"
      ],
      "metadata": {
        "colab": {
          "base_uri": "https://localhost:8080/"
        },
        "id": "Zq3BH00hVXPa",
        "outputId": "07a9539e-4e9a-4300-deca-e716e64a946f"
      },
      "execution_count": 143,
      "outputs": [
        {
          "output_type": "execute_result",
          "data": {
            "text/plain": [
              "(4572, 486)"
            ]
          },
          "metadata": {},
          "execution_count": 143
        }
      ]
    },
    {
      "cell_type": "code",
      "source": [
        "# Create an imputer object with a strategy (e.g., 'mean', 'median', 'most_frequent')\n",
        "imputer = SimpleImputer(strategy='mean')\n",
        "# Fit and transform the data\n",
        "original_data = imputer.fit_transform(original_data)"
      ],
      "metadata": {
        "id": "n6QHSXVFNuWu"
      },
      "execution_count": 144,
      "outputs": []
    },
    {
      "cell_type": "markdown",
      "source": [
        "## Finding the best number of components by using PCA again and again"
      ],
      "metadata": {
        "id": "vvzGVqvCl-On"
      }
    },
    {
      "cell_type": "code",
      "source": [
        "best_acc = 0\n",
        "best_i = 0\n",
        "\n",
        "\n",
        "# For analysis\n",
        "no_of_features_list = []\n",
        "accuracy_list = []\n",
        "\n",
        "\n",
        "\n",
        "\n",
        "\n",
        "for i in range(100,400):\n",
        "\n",
        "  data = original_data\n",
        "\n",
        "  # Apply PCA\n",
        "  desired_number_of_components = 320  # Adjust based on explained variance\n",
        "  pca = PCA(n_components=desired_number_of_components)\n",
        "  data = pca.fit_transform(data)\n",
        "\n",
        "\n",
        "  X_train, X_test, y_train, y_test = train_test_split(data, Labels, test_size=0.2)\n",
        "\n",
        "  clf = svm.SVC(kernel='linear')\n",
        "  clf.fit(X_train, y_train)\n",
        "\n",
        "\n",
        "  y_pred = clf.predict(X_test)\n",
        "\n",
        "  # Accuracy\n",
        "  accuracy = accuracy_score(y_test, y_pred)\n",
        "\n",
        "  no_of_features_list.append(i)\n",
        "  accuracy_list.append(accuracy)\n",
        "\n",
        "  if accuracy > best_acc:\n",
        "    print(f\"i:{i}   acc:{accuracy}\")\n",
        "    best_acc = accuracy\n",
        "    best_i = i\n",
        "\n",
        "\n"
      ],
      "metadata": {
        "colab": {
          "base_uri": "https://localhost:8080/"
        },
        "id": "QyeGjaJQ1J2K",
        "outputId": "a6d460bd-bbb7-48bd-a96f-522837e7914a"
      },
      "execution_count": 145,
      "outputs": [
        {
          "output_type": "stream",
          "name": "stdout",
          "text": [
            "i:100   acc:0.8098360655737705\n",
            "i:101   acc:0.8131147540983606\n",
            "i:106   acc:0.8142076502732241\n",
            "i:109   acc:0.833879781420765\n",
            "i:297   acc:0.839344262295082\n",
            "i:358   acc:0.8415300546448088\n"
          ]
        }
      ]
    },
    {
      "cell_type": "code",
      "source": [
        "\n",
        "# Save the arrays\n",
        "# Define the path to save the processed data\n",
        "save_path = '/content/drive/MyDrive/ActivityData/Processed/'\n",
        "\n",
        "# Create the directory if it doesn't exist\n",
        "if not os.path.exists(save_path):\n",
        "    os.makedirs(save_path)\n",
        "\n",
        "# Save the data\n",
        "np.save(os.path.join(save_path, 'features_list.npy'), np.array([no_of_features_list]))\n",
        "np.save(os.path.join(save_path, 'accuracy_list.npy'), np.array([accuracy_list]))"
      ],
      "metadata": {
        "id": "AVKMv005M_wq"
      },
      "execution_count": 212,
      "outputs": []
    },
    {
      "cell_type": "code",
      "source": [],
      "metadata": {
        "colab": {
          "base_uri": "https://localhost:8080/"
        },
        "id": "TqKH1jY5t4Ax",
        "outputId": "e4cffee8-4bc9-4f25-dd74-35af0c9b13b2"
      },
      "execution_count": 216,
      "outputs": [
        {
          "output_type": "execute_result",
          "data": {
            "text/plain": [
              "[100, 101, 102, 103, 104, 105, 106, 107, 108, 109]"
            ]
          },
          "metadata": {},
          "execution_count": 216
        }
      ]
    },
    {
      "cell_type": "code",
      "source": [],
      "metadata": {
        "id": "CONKNli0uiAS"
      },
      "execution_count": null,
      "outputs": []
    },
    {
      "cell_type": "code",
      "source": [
        "\n",
        "# Moving avg to avoid fluctuation\n",
        "window_size = 20\n",
        "moving_average = [np.mean(accuracy_list[i:i+window_size]) for i in range(len(accuracy_list) - window_size + 1)]\n",
        "\n",
        "# Plot the moving average of the accuracy\n",
        "plt.figure(figsize=(10, 6))\n",
        "plt.plot(moving_average, 'o-')\n",
        "plt.xlabel('Number of Features (Moving Average)')\n",
        "plt.ylabel('Accuracy')\n",
        "plt.title('Moving Average of Accuracy vs. Number of Features')\n",
        "plt.grid(True)\n",
        "plt.show()\n"
      ],
      "metadata": {
        "colab": {
          "base_uri": "https://localhost:8080/",
          "height": 564
        },
        "id": "-itIGKv8twnK",
        "outputId": "f1cf7b68-e8c8-4347-c8cd-48d4299bfa39"
      },
      "execution_count": 222,
      "outputs": [
        {
          "output_type": "display_data",
          "data": {
            "text/plain": [
              "<Figure size 1000x600 with 1 Axes>"
            ],
            "image/png": "[encoded data removed]"
          },
          "metadata": {}
        }
      ]
    },
    {
      "cell_type": "code",
      "source": [
        "print(best_acc)\n",
        "print(best_i)"
      ],
      "metadata": {
        "colab": {
          "base_uri": "https://localhost:8080/"
        },
        "id": "rwV395HV2Hve",
        "outputId": "820d3fbb-ec4f-445e-fb8e-c66f83ca8a8e"
      },
      "execution_count": 213,
      "outputs": [
        {
          "output_type": "stream",
          "name": "stdout",
          "text": [
            "0.8415300546448088\n",
            "358\n"
          ]
        }
      ]
    },
    {
      "cell_type": "code",
      "source": [
        "data = original_data\n",
        "data.shape"
      ],
      "metadata": {
        "id": "r5jVEP8h0ZO1",
        "colab": {
          "base_uri": "https://localhost:8080/"
        },
        "outputId": "1e59fb2e-8e0e-47f2-a954-e8e643fd48ba"
      },
      "execution_count": 214,
      "outputs": [
        {
          "output_type": "execute_result",
          "data": {
            "text/plain": [
              "(4572, 469)"
            ]
          },
          "metadata": {},
          "execution_count": 214
        }
      ]
    },
    {
      "cell_type": "markdown",
      "source": [
        "# Applying Feature Selection Method (PCA)"
      ],
      "metadata": {
        "id": "FA-kto_-Z_bR"
      }
    },
    {
      "cell_type": "code",
      "source": [
        "# Apply PCA for best number of features\n",
        "desired_number_of_components = best_i  # Adjust based on explained variance\n",
        "pca = PCA(n_components=desired_number_of_components)\n",
        "data = pca.fit_transform(data)\n",
        "\n",
        "# Explained variance\n",
        "explained_variance = pca.explained_variance_ratio_\n",
        "cumulative_explained_variance = np.cumsum(explained_variance)\n",
        "\n",
        "\n",
        "plt.figure(figsize=(8, 6))\n",
        "plt.plot(range(1, desired_number_of_components + 1), cumulative_explained_variance, marker='o', linestyle='--')\n",
        "plt.title('Cumulative Explained Variance')\n",
        "plt.xlabel('Number of Components')\n",
        "plt.ylabel('Cumulative Explained Variance')\n",
        "plt.grid()\n",
        "plt.show()"
      ],
      "metadata": {
        "colab": {
          "base_uri": "https://localhost:8080/",
          "height": 564
        },
        "id": "sQVdIl9qRFRU",
        "outputId": "ea8eb8e6-e4fa-4d2f-8427-581ffe12216d"
      },
      "execution_count": 215,
      "outputs": [
        {
          "output_type": "display_data",
          "data": {
            "text/plain": [
              "<Figure size 800x600 with 1 Axes>"
            ],
            "image/png": "[encoded data removed]"
          },
          "metadata": {}
        }
      ]
    },
    {
      "cell_type": "code",
      "source": [
        "X_train, X_test, y_train, y_test = train_test_split(data, Labels, test_size=0.2)"
      ],
      "metadata": {
        "id": "GIX4p-mCnNUi"
      },
      "execution_count": 205,
      "outputs": []
    },
    {
      "cell_type": "code",
      "source": [
        "print(X_train.shape)\n",
        "print(y_train.shape)\n",
        "print(X_test.shape)\n",
        "print(y_test.shape)"
      ],
      "metadata": {
        "colab": {
          "base_uri": "https://localhost:8080/"
        },
        "id": "frXN8W_2o0mx",
        "outputId": "fc52a6fa-4ee3-4341-d13e-350eb7e3a2df"
      },
      "execution_count": 206,
      "outputs": [
        {
          "output_type": "stream",
          "name": "stdout",
          "text": [
            "(3657, 200)\n",
            "(3657,)\n",
            "(915, 200)\n",
            "(915,)\n"
          ]
        }
      ]
    },
    {
      "cell_type": "markdown",
      "source": [
        "# Applying First Method (SVM)"
      ],
      "metadata": {
        "id": "GygblFaMaOKy"
      }
    },
    {
      "cell_type": "code",
      "source": [
        "clf = svm.SVC(kernel='linear')\n",
        "clf.fit(X_train, y_train)"
      ],
      "metadata": {
        "id": "MYKUOG3OpI6x",
        "colab": {
          "base_uri": "https://localhost:8080/",
          "height": 74
        },
        "outputId": "0166a629-b487-47b8-c6f7-751cdc2bed03"
      },
      "execution_count": 207,
      "outputs": [
        {
          "output_type": "execute_result",
          "data": {
            "text/plain": [
              "SVC(kernel='linear')"
            ],
            "text/html": [
              "<style>#sk-container-id-9 {color: black;background-color: white;}#sk-container-id-9 pre{padding: 0;}#sk-container-id-9 div.sk-toggleable {background-color: white;}#sk-container-id-9 label.sk-toggleable__label {cursor: pointer;display: block;width: 100%;margin-bottom: 0;padding: 0.3em;box-sizing: border-box;text-align: center;}#sk-container-id-9 label.sk-toggleable__label-arrow:before {content: \"▸\";float: left;margin-right: 0.25em;color: #696969;}#sk-container-id-9 label.sk-toggleable__label-arrow:hover:before {color: black;}#sk-container-id-9 div.sk-estimator:hover label.sk-toggleable__label-arrow:before {color: black;}#sk-container-id-9 div.sk-toggleable__content {max-height: 0;max-width: 0;overflow: hidden;text-align: left;background-color: #f0f8ff;}#sk-container-id-9 div.sk-toggleable__content pre {margin: 0.2em;color: black;border-radius: 0.25em;background-color: #f0f8ff;}#sk-container-id-9 input.sk-toggleable__control:checked~div.sk-toggleable__content {max-height: 200px;max-width: 100%;overflow: auto;}#sk-container-id-9 input.sk-toggleable__control:checked~label.sk-toggleable__label-arrow:before {content: \"▾\";}#sk-container-id-9 div.sk-estimator input.sk-toggleable__control:checked~label.sk-toggleable__label {background-color: #d4ebff;}#sk-container-id-9 div.sk-label input.sk-toggleable__control:checked~label.sk-toggleable__label {background-color: #d4ebff;}#sk-container-id-9 input.sk-hidden--visually {border: 0;clip: rect(1px 1px 1px 1px);clip: rect(1px, 1px, 1px, 1px);height: 1px;margin: -1px;overflow: hidden;padding: 0;position: absolute;width: 1px;}#sk-container-id-9 div.sk-estimator {font-family: monospace;background-color: #f0f8ff;border: 1px dotted black;border-radius: 0.25em;box-sizing: border-box;margin-bottom: 0.5em;}#sk-container-id-9 div.sk-estimator:hover {background-color: #d4ebff;}#sk-container-id-9 div.sk-parallel-item::after {content: \"\";width: 100%;border-bottom: 1px solid gray;flex-grow: 1;}#sk-container-id-9 div.sk-label:hover label.sk-toggleable__label {background-color: #d4ebff;}#sk-container-id-9 div.sk-serial::before {content: \"\";position: absolute;border-left: 1px solid gray;box-sizing: border-box;top: 0;bottom: 0;left: 50%;z-index: 0;}#sk-container-id-9 div.sk-serial {display: flex;flex-direction: column;align-items: center;background-color: white;padding-right: 0.2em;padding-left: 0.2em;position: relative;}#sk-container-id-9 div.sk-item {position: relative;z-index: 1;}#sk-container-id-9 div.sk-parallel {display: flex;align-items: stretch;justify-content: center;background-color: white;position: relative;}#sk-container-id-9 div.sk-item::before, #sk-container-id-9 div.sk-parallel-item::before {content: \"\";position: absolute;border-left: 1px solid gray;box-sizing: border-box;top: 0;bottom: 0;left: 50%;z-index: -1;}#sk-container-id-9 div.sk-parallel-item {display: flex;flex-direction: column;z-index: 1;position: relative;background-color: white;}#sk-container-id-9 div.sk-parallel-item:first-child::after {align-self: flex-end;width: 50%;}#sk-container-id-9 div.sk-parallel-item:last-child::after {align-self: flex-start;width: 50%;}#sk-container-id-9 div.sk-parallel-item:only-child::after {width: 0;}#sk-container-id-9 div.sk-dashed-wrapped {border: 1px dashed gray;margin: 0 0.4em 0.5em 0.4em;box-sizing: border-box;padding-bottom: 0.4em;background-color: white;}#sk-container-id-9 div.sk-label label {font-family: monospace;font-weight: bold;display: inline-block;line-height: 1.2em;}#sk-container-id-9 div.sk-label-container {text-align: center;}#sk-container-id-9 div.sk-container {/* jupyter's `normalize.less` sets `[hidden] { display: none; }` but bootstrap.min.css set `[hidden] { display: none !important; }` so we also need the `!important` here to be able to override the default hidden behavior on the sphinx rendered scikit-learn.org. See: https://github.com/scikit-learn/scikit-learn/issues/21755 */display: inline-block !important;position: relative;}#sk-container-id-9 div.sk-text-repr-fallback {display: none;}</style><div id=\"sk-container-id-9\" class=\"sk-top-container\"><div class=\"sk-text-repr-fallback\"><pre>SVC(kernel=&#x27;linear&#x27;)</pre><b>In a Jupyter environment, please rerun this cell to show the HTML representation or trust the notebook. <br />On GitHub, the HTML representation is unable to render, please try loading this page with nbviewer.org.</b></div><div class=\"sk-container\" hidden><div class=\"sk-item\"><div class=\"sk-estimator sk-toggleable\"><input class=\"sk-toggleable__control sk-hidden--visually\" id=\"sk-estimator-id-9\" type=\"checkbox\" checked><label for=\"sk-estimator-id-9\" class=\"sk-toggleable__label sk-toggleable__label-arrow\">SVC</label><div class=\"sk-toggleable__content\"><pre>SVC(kernel=&#x27;linear&#x27;)</pre></div></div></div></div></div>"
            ]
          },
          "metadata": {},
          "execution_count": 207
        }
      ]
    },
    {
      "cell_type": "code",
      "source": [
        "y_pred = clf.predict(X_test)"
      ],
      "metadata": {
        "id": "0ZUh6d6PqXgF"
      },
      "execution_count": 208,
      "outputs": []
    },
    {
      "cell_type": "markdown",
      "source": [
        "# Evaluation Methods"
      ],
      "metadata": {
        "id": "LgQM24aRaZn7"
      }
    },
    {
      "cell_type": "markdown",
      "source": [
        "## Note: The accuracy fluctuates between 80-84 % due to randomness. The max accuracy achieved was 84%."
      ],
      "metadata": {
        "id": "21I5ejXkoE4N"
      }
    },
    {
      "cell_type": "code",
      "source": [
        "# Accuracy\n",
        "accuracy = accuracy_score(y_test, y_pred)\n",
        "print(f'Accuracy: {accuracy}')\n",
        "\n",
        "# Classification report\n",
        "print('Classification Report:')\n",
        "print(classification_report(y_test, y_pred))\n",
        "\n",
        "# Confusion matrix\n",
        "print('Confusion Matrix:')\n",
        "print(confusion_matrix(y_test, y_pred))\n"
      ],
      "metadata": {
        "colab": {
          "base_uri": "https://localhost:8080/"
        },
        "id": "jLio32zqq9cj",
        "outputId": "eebf4cf4-743f-49f0-9286-a3fbfcdbfaf5"
      },
      "execution_count": 209,
      "outputs": [
        {
          "output_type": "stream",
          "name": "stdout",
          "text": [
            "Accuracy: 0.8076502732240437\n",
            "Classification Report:\n",
            "              precision    recall  f1-score   support\n",
            "\n",
            "           0       0.88      0.96      0.92        23\n",
            "           1       1.00      0.90      0.95        20\n",
            "           2       0.73      0.92      0.81        12\n",
            "           3       0.80      0.80      0.80        15\n",
            "           4       0.75      0.95      0.84        19\n",
            "           5       0.55      0.40      0.46        15\n",
            "           6       0.79      0.90      0.84        21\n",
            "           7       0.38      0.44      0.41        18\n",
            "           8       0.64      0.64      0.64        22\n",
            "           9       0.71      1.00      0.83         5\n",
            "          10       0.88      0.82      0.85        17\n",
            "          11       0.86      1.00      0.92        12\n",
            "          12       1.00      1.00      1.00        16\n",
            "          13       0.82      0.88      0.85        16\n",
            "          14       0.94      0.94      0.94        17\n",
            "          15       1.00      0.92      0.96        12\n",
            "          16       0.89      0.94      0.91        17\n",
            "          17       0.96      1.00      0.98        24\n",
            "          18       0.83      0.67      0.74        15\n",
            "          19       0.76      0.68      0.72        19\n",
            "          20       0.81      0.89      0.85        19\n",
            "          21       0.57      0.62      0.59        13\n",
            "          22       0.71      0.75      0.73        20\n",
            "          23       0.64      0.50      0.56        18\n",
            "          24       0.45      0.50      0.47        18\n",
            "          25       0.91      0.91      0.91        11\n",
            "          26       0.71      0.85      0.77        20\n",
            "          27       0.67      0.74      0.70        19\n",
            "          28       0.71      0.77      0.74        13\n",
            "          29       0.92      0.65      0.76        17\n",
            "          30       0.75      0.90      0.82        20\n",
            "          31       0.89      0.85      0.87        20\n",
            "          32       0.89      1.00      0.94        17\n",
            "          33       0.70      0.88      0.78        16\n",
            "          34       0.64      0.64      0.64        14\n",
            "          35       0.86      0.79      0.83        24\n",
            "          36       0.94      0.94      0.94        18\n",
            "          37       0.80      0.67      0.73        12\n",
            "          38       1.00      0.88      0.93        16\n",
            "          39       1.00      1.00      1.00        15\n",
            "          40       0.92      0.92      0.92        24\n",
            "          41       0.86      0.86      0.86        14\n",
            "          42       0.88      0.79      0.83        19\n",
            "          43       1.00      0.86      0.92        14\n",
            "          44       0.94      0.94      0.94        16\n",
            "          45       0.67      0.69      0.68        26\n",
            "          46       0.92      0.80      0.86        15\n",
            "          47       0.80      0.67      0.73        12\n",
            "          48       0.89      0.89      0.89        19\n",
            "          49       0.62      0.67      0.64        12\n",
            "          50       1.00      0.93      0.96        14\n",
            "          51       0.87      1.00      0.93        13\n",
            "          52       0.90      0.56      0.69        16\n",
            "          53       0.83      0.91      0.87        11\n",
            "          54       1.00      0.53      0.70        15\n",
            "\n",
            "    accuracy                           0.81       915\n",
            "   macro avg       0.82      0.81      0.81       915\n",
            "weighted avg       0.82      0.81      0.81       915\n",
            "\n",
            "Confusion Matrix:\n",
            "[[22  0  1 ...  0  0  0]\n",
            " [ 0 18  1 ...  0  0  0]\n",
            " [ 0  0 11 ...  0  0  0]\n",
            " ...\n",
            " [ 0  0  0 ...  9  0  0]\n",
            " [ 0  0  0 ...  0 10  0]\n",
            " [ 0  0  0 ...  0  0  8]]\n"
          ]
        }
      ]
    },
    {
      "cell_type": "markdown",
      "source": [
        "# Using Random Forest Algorithm for Comparison"
      ],
      "metadata": {
        "id": "P2vo1BZ0lypP"
      }
    },
    {
      "cell_type": "code",
      "source": [
        "# Initialize the Random Forest Classifier\n",
        "rf_classifier = RandomForestClassifier(n_estimators=100, random_state=42)\n",
        "\n",
        "# Train the model\n",
        "rf_classifier.fit(X_train, y_train)\n",
        "\n",
        "# Make predictions on the test set\n",
        "y_pred = rf_classifier.predict(X_test)\n",
        "\n",
        "# Evaluate the model\n",
        "accuracy = accuracy_score(y_test, y_pred)\n",
        "print(f'Accuracy: {accuracy:.2f}')"
      ],
      "metadata": {
        "colab": {
          "base_uri": "https://localhost:8080/"
        },
        "id": "lOoX87-Rlx27",
        "outputId": "acf42751-7092-4c37-8d05-75fa028b267d"
      },
      "execution_count": 224,
      "outputs": [
        {
          "output_type": "stream",
          "name": "stdout",
          "text": [
            "Accuracy: 0.73\n"
          ]
        }
      ]
    },
    {
      "cell_type": "code",
      "source": [
        "\n",
        "from sklearn.metrics import precision_score, recall_score, f1_score\n",
        "\n",
        "# Calculate the precision, recall, and F1 score\n",
        "precision = precision_score(y_test, y_pred, average='weighted')\n",
        "recall = recall_score(y_test, y_pred, average='weighted')\n",
        "f1 = f1_score(y_test, y_pred, average='weighted')\n",
        "\n",
        "# Print the results\n",
        "print('Precision:', precision)\n",
        "print('Recall:', recall)\n",
        "print('F1 Score:', f1)\n"
      ],
      "metadata": {
        "colab": {
          "base_uri": "https://localhost:8080/"
        },
        "id": "PZb9GENIoZLm",
        "outputId": "d22819cd-0f93-4d3d-eb0d-8fd8a97928fe"
      },
      "execution_count": 223,
      "outputs": [
        {
          "output_type": "stream",
          "name": "stdout",
          "text": [
            "Precision: 0.7449959141415706\n",
            "Recall: 0.7289617486338797\n",
            "F1 Score: 0.7259908080150671\n"
          ]
        }
      ]
    },
    {
      "cell_type": "code",
      "source": [],
      "metadata": {
        "id": "5SzYxjUuAldF"
      },
      "execution_count": null,
      "outputs": []
    }
  ]
}