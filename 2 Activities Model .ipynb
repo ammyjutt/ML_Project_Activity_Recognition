{
 "cells": [
  {
   "cell_type": "code",
   "execution_count": 1,
   "id": "7b157d53",
   "metadata": {},
   "outputs": [],
   "source": [
    "import numpy as np\n",
    "from scipy.stats import skew, kurtosis, entropy\n",
    "from scipy.signal import welch\n",
    "from scipy.linalg import norm\n",
    "from statsmodels.tsa.stattools import acf\n",
    "from sklearn.model_selection import train_test_split\n",
    "from sklearn.linear_model import LogisticRegression\n",
    "from sklearn.metrics import accuracy_score,confusion_matrix\n",
    "import matplotlib.pyplot as plt\n",
    "import seaborn as sns\n",
    "from sklearn.metrics import accuracy_score, confusion_matrix, f1_score, classification_report\n",
    "from sklearn.naive_bayes import GaussianNB\n",
    "\n"
   ]
  },
  {
   "cell_type": "code",
   "execution_count": 2,
   "id": "5c8326cd",
   "metadata": {},
   "outputs": [
    {
     "name": "stdout",
     "output_type": "stream",
     "text": [
      "90\n",
      "48\n",
      "42\n"
     ]
    }
   ],
   "source": [
    "import numpy as np \n",
    "ts_msAcc = np.load(\"testMSAccelerometer.npy\")\n",
    "ts_msGyr = np.load(\"testMSGyroscope.npy\")\n",
    "ts_labels = np.load(\"testLabels.npy\")\n",
    "\n",
    "OPEN_DOOR = 20\n",
    "RUB_HANDS = 36\n",
    "\n",
    "ts_labels_OPEN_DOOR_idx = ts_labels == OPEN_DOOR\n",
    "ts_labels_RUB_HANDS_idx = ts_labels == RUB_HANDS\n",
    "\n",
    "ts_msAcc_OPEN_DOOR = ts_msAcc[ts_labels_OPEN_DOOR_idx]\n",
    "ts_msGyr_OPEN_DOOR = ts_msGyr[ts_labels_OPEN_DOOR_idx]\n",
    "\n",
    "ts_msAcc_RUB_HANDS = ts_msAcc[ts_labels_RUB_HANDS_idx]\n",
    "ts_msGyr_RUB_HANDS = ts_msGyr[ts_labels_RUB_HANDS_idx]\n",
    "\n",
    "ts_labels_OPEN_DOOR = ts_labels[ts_labels_OPEN_DOOR_idx]\n",
    "ts_labels_RUB_HANDS = ts_labels[ts_labels_RUB_HANDS_idx]\n",
    "\n",
    "ts_msAcc_Two_Activities = np.concatenate((ts_msAcc_OPEN_DOOR, ts_msAcc_RUB_HANDS))\n",
    "ts_msGyr_Two_Activities = np.concatenate((ts_msGyr_OPEN_DOOR, ts_msGyr_RUB_HANDS))\n",
    "ts_labels_Two_Activities = np.concatenate((ts_labels_OPEN_DOOR, ts_labels_RUB_HANDS))\n",
    "\n",
    "np.save(\"test_MSAccelerometer_OpenDoor_RubHands.npy\", ts_msAcc_Two_Activities)\n",
    "np.save(\"test_MSGyroscope_OpenDoor_RubHands.npy\", ts_msGyr_Two_Activities)\n",
    "np.save(\"test_labels_OpenDoor_RubHands.npy\", ts_labels_Two_Activities)\n",
    "print(ts_labels_Two_Activities.shape[0])\n",
    "print(ts_labels_OPEN_DOOR.shape[0])\n",
    "print(ts_labels_RUB_HANDS.shape[0])"
   ]
  },
  {
   "cell_type": "markdown",
   "id": "38d4a53f",
   "metadata": {},
   "source": [
    "### Extract Train data"
   ]
  },
  {
   "cell_type": "code",
   "execution_count": 3,
   "id": "09617396",
   "metadata": {},
   "outputs": [
    {
     "name": "stdout",
     "output_type": "stream",
     "text": [
      "87\n"
     ]
    }
   ],
   "source": [
    "import numpy as np \n",
    "tr_msAcc = np.load(\"trainMSAccelerometer.npy\")\n",
    "tr_msGyr = np.load(\"trainMSGyroscope.npy\")\n",
    "tr_labels = np.load(\"trainLabels.npy\")\n",
    "\n",
    "OPEN_DOOR = 20\n",
    "RUB_HANDS = 36\n",
    "\n",
    "tr_labels_OPEN_DOOR_idx = tr_labels == OPEN_DOOR\n",
    "tr_labels_RUB_HANDS_idx = tr_labels == RUB_HANDS\n",
    "\n",
    "tr_msAcc_OPEN_DOOR = tr_msAcc[tr_labels_OPEN_DOOR_idx]\n",
    "tr_msGyr_OPEN_DOOR = tr_msGyr[tr_labels_OPEN_DOOR_idx]\n",
    "\n",
    "tr_msAcc_RUB_HANDS = tr_msAcc[tr_labels_RUB_HANDS_idx]\n",
    "tr_msGyr_RUB_HANDS = tr_msGyr[tr_labels_RUB_HANDS_idx]\n",
    "\n",
    "tr_labels_OPEN_DOOR = tr_labels[tr_labels_OPEN_DOOR_idx]\n",
    "tr_labels_RUB_HANDS = tr_labels[tr_labels_RUB_HANDS_idx]\n",
    "\n",
    "tr_msAcc_Two_Activities = np.concatenate((tr_msAcc_OPEN_DOOR, tr_msAcc_RUB_HANDS))\n",
    "tr_msGyr_Two_Activities = np.concatenate((tr_msGyr_OPEN_DOOR, tr_msGyr_RUB_HANDS))\n",
    "tr_labels_Two_Activities = np.concatenate((tr_labels_OPEN_DOOR, tr_labels_RUB_HANDS))\n",
    "\n",
    "np.save(\"train_MSAccelerometer_OpenDoor_RubHands.npy\", tr_msAcc_Two_Activities)\n",
    "np.save(\"train_MSGyroscope_OpenDoor_RubHands.npy\", tr_msGyr_Two_Activities)\n",
    "np.save(\"train_labels_OpenDoor_RubHands.npy\", tr_labels_Two_Activities)\n",
    "print(tr_labels_Two_Activities.shape[0])"
   ]
  },
  {
   "cell_type": "markdown",
   "id": "3ce93d57",
   "metadata": {},
   "source": [
    "### compute features"
   ]
  },
  {
   "cell_type": "code",
   "execution_count": 4,
   "id": "69ae9fc0",
   "metadata": {},
   "outputs": [],
   "source": [
    " \n",
    "\n",
    "def compute_features(data,tr_msAcc_Two_Activities):\n",
    "    for i in range(tr_msAcc_Two_Activities.shape[0]):\n",
    "        # Initialize an empty list to hold statistics for this sample\n",
    "        stats = []\n",
    "    \n",
    "        # Maximum\n",
    "        stats.append(np.max(tr_msAcc_Two_Activities[i], axis = 0))\n",
    "    \n",
    "        # Minimum\n",
    "        stats.append(np.min(tr_msAcc_Two_Activities[i], axis = 0))\n",
    "    \n",
    "        # First-order mean\n",
    "        mean_val = np.mean(tr_msAcc_Two_Activities[i], axis = 0)\n",
    "        stats.append(mean_val)\n",
    "    \n",
    "        # Standard Deviation\n",
    "        stats.append(np.std(tr_msAcc_Two_Activities[i], axis = 0))\n",
    "    \n",
    "        # Percentile 50\n",
    "        stats.append(np.percentile(tr_msAcc_Two_Activities[i], 50, axis = 0))\n",
    "    \n",
    "        # Percentile 80\n",
    "        stats.append(np.percentile(tr_msAcc_Two_Activities[i], 80, axis = 0))\n",
    "    \n",
    "        # Norm of the first-order mean\n",
    "        stats.append(np.full(mean_val.shape, norm(mean_val)))\n",
    "    \n",
    "        # Average (same as mean)\n",
    "        stats.append(mean_val)\n",
    "    \n",
    "        # Interquartile range\n",
    "        stats.append(np.percentile(tr_msAcc_Two_Activities[i], 75, axis = 0) - np.percentile(tr_msAcc_Two_Activities[i], 25, axis = 0))\n",
    "    \n",
    "        # Second-order mean\n",
    "        squared_mean = np.mean(np.square(tr_msAcc_Two_Activities[i]), axis = 0)\n",
    "        stats.append(squared_mean)\n",
    "    \n",
    "        # Skewness\n",
    "        stats.append(skew(tr_msAcc_Two_Activities[i], axis = 0))\n",
    "    \n",
    "        # Norm of the second-order mean\n",
    "        stats.append(np.full(squared_mean.shape, norm(squared_mean)))\n",
    "    \n",
    "        # Zero-crossing\n",
    "        zero_crossings = np.sum(np.diff(np.sign(tr_msAcc_Two_Activities[i]), axis = 0) != 0, axis = 0)\n",
    "        stats.append(zero_crossings)\n",
    "    \n",
    "        # Kurtosis\n",
    "        stats.append(kurtosis(tr_msAcc_Two_Activities[i], axis = 0))\n",
    "    \n",
    "        # Spectral energy\n",
    "        frequencies, power_spectral_density = welch(tr_msAcc_Two_Activities[i], axis = 0)\n",
    "        spectral_energy = np.sum(power_spectral_density, axis = 0)\n",
    "        stats.append(spectral_energy)\n",
    "    \n",
    "        # Percentile 20\n",
    "        stats.append(np.percentile(tr_msAcc_Two_Activities[i], 20, axis = 0))\n",
    "    \n",
    "        # Auto-correlation (assuming lag 1)\n",
    "        autocorr = np.array([acf(tr_msAcc_Two_Activities[i][:, j], nlags = 1, fft = True)[1] for j in range(tr_msAcc_Two_Activities[i].shape[1])])\n",
    "        stats.append(autocorr)\n",
    "    \n",
    "        # Spectral entropy\n",
    "        power_spectral_density /= np.sum(power_spectral_density, axis = 0, keepdims = True)\n",
    "        spectral_entropy = entropy(power_spectral_density, axis = 0)\n",
    "        stats.append(spectral_entropy)\n",
    "    \n",
    "        # Convert list of arrays to a 2D array of shape (18, 3)\n",
    "        stats_array = np.array(stats)\n",
    "    \n",
    "        # Store in pre-allocated data array\n",
    "        data[i] = stats_array\n",
    "    \n",
    "    # Now `data` contains the computed statistics for each sample\n"
   ]
  },
  {
   "cell_type": "markdown",
   "id": "85951221",
   "metadata": {},
   "source": [
    "### Training Data reshape and concatenate"
   ]
  },
  {
   "cell_type": "code",
   "execution_count": 5,
   "id": "d1340c8c",
   "metadata": {},
   "outputs": [
    {
     "name": "stdout",
     "output_type": "stream",
     "text": [
      "(87, 1, 54)\n"
     ]
    }
   ],
   "source": [
    "data = np.empty((tr_msAcc_Two_Activities.shape[0], 18, 3))\n",
    "compute_features(data,tr_msAcc_Two_Activities)\n",
    "# reshape the data so that each row contain all features of the one example(x-axis,y-axis,z-axis)\n",
    "data = np.reshape(data,(tr_msAcc_Two_Activities.shape[0],1,-1))\n",
    "print(data.shape)\n",
    "tr_msAcc_Two_Activities = data"
   ]
  },
  {
   "cell_type": "code",
   "execution_count": 6,
   "id": "17e4949d",
   "metadata": {},
   "outputs": [
    {
     "name": "stdout",
     "output_type": "stream",
     "text": [
      "(87, 1, 54)\n"
     ]
    }
   ],
   "source": [
    "data = np.empty((tr_msGyr_Two_Activities.shape[0], 18, 3))\n",
    "compute_features(data,tr_msGyr_Two_Activities)\n",
    "data = np.reshape(data,(tr_msGyr_Two_Activities.shape[0],1,-1))\n",
    "print(data.shape)\n",
    "tr_msGyr_Two_Activities = data"
   ]
  },
  {
   "cell_type": "code",
   "execution_count": 7,
   "id": "c8b381ee",
   "metadata": {},
   "outputs": [],
   "source": [
    "train_data = np.concatenate((tr_msAcc_Two_Activities, tr_msGyr_Two_Activities), axis=2)\n",
    "train_labels = tr_labels_Two_Activities\n",
    "\n",
    "train_data = np.squeeze(train_data, axis=1)\n",
    "train_labels = train_labels[:, np.newaxis]\n",
    "\n",
    "\n",
    "for i in range(train_data.shape[0]):\n",
    "    if train_labels[i] == 20:\n",
    "        train_labels[i] = 0;\n",
    "    elif train_labels[i] == 36:\n",
    "        train_labels[i] = 1;\n"
   ]
  },
  {
   "cell_type": "markdown",
   "id": "622ccbd2",
   "metadata": {},
   "source": [
    "### Test Data reshape and concatenate"
   ]
  },
  {
   "cell_type": "code",
   "execution_count": 8,
   "id": "a44e02c5",
   "metadata": {},
   "outputs": [
    {
     "name": "stdout",
     "output_type": "stream",
     "text": [
      "(90, 1, 54)\n"
     ]
    }
   ],
   "source": [
    "data = np.empty((ts_msAcc_Two_Activities.shape[0], 18, 3))\n",
    "compute_features(data,ts_msAcc_Two_Activities)\n",
    "# reshape the data so that each row contain all features of the one example(x-axis,y-axis,z-axis)\n",
    "data = np.reshape(data,(ts_msAcc_Two_Activities.shape[0],1,-1))\n",
    "data[0,0,:]\n",
    "print(data.shape)\n",
    "ts_msAcc_Two_Activities = data"
   ]
  },
  {
   "cell_type": "code",
   "execution_count": 9,
   "id": "1efc48a0",
   "metadata": {},
   "outputs": [
    {
     "name": "stdout",
     "output_type": "stream",
     "text": [
      "(90, 1, 54)\n"
     ]
    }
   ],
   "source": [
    "data = np.empty((ts_msGyr_Two_Activities.shape[0], 18, 3))\n",
    "compute_features(data,ts_msGyr_Two_Activities)\n",
    "data = np.reshape(data,(ts_msGyr_Two_Activities.shape[0],1,-1))\n",
    "data[0,0,:]\n",
    "print(data.shape)\n",
    "ts_msGyr_Two_Activities = data"
   ]
  },
  {
   "cell_type": "code",
   "execution_count": 10,
   "id": "2395e642",
   "metadata": {},
   "outputs": [],
   "source": [
    "test_data = np.concatenate((ts_msAcc_Two_Activities, ts_msGyr_Two_Activities), axis = 2)\n",
    "test_labels = ts_labels_Two_Activities\n",
    "\n",
    "test_data = np.squeeze(test_data, axis = 1)\n",
    "test_labels = test_labels[:, np.newaxis]\n",
    "\n",
    "for i in range(test_data.shape[0]):\n",
    "    if test_labels[i] == 20:\n",
    "        test_labels[i] = 0;\n",
    "    elif test_labels[i] == 36:\n",
    "        test_labels[i] = 1;\n"
   ]
  },
  {
   "cell_type": "code",
   "execution_count": 11,
   "id": "aa9d21d2",
   "metadata": {},
   "outputs": [],
   "source": [
    "model = LogisticRegression();"
   ]
  },
  {
   "cell_type": "code",
   "execution_count": 12,
   "id": "15e2b2b8",
   "metadata": {},
   "outputs": [
    {
     "name": "stderr",
     "output_type": "stream",
     "text": [
      "C:\\Users\\inzi4\\anaconda3\\envs\\tensorflow\\lib\\site-packages\\sklearn\\utils\\validation.py:1183: DataConversionWarning: A column-vector y was passed when a 1d array was expected. Please change the shape of y to (n_samples, ), for example using ravel().\n",
      "  y = column_or_1d(y, warn=True)\n",
      "C:\\Users\\inzi4\\anaconda3\\envs\\tensorflow\\lib\\site-packages\\sklearn\\linear_model\\_logistic.py:460: ConvergenceWarning: lbfgs failed to converge (status=1):\n",
      "STOP: TOTAL NO. of ITERATIONS REACHED LIMIT.\n",
      "\n",
      "Increase the number of iterations (max_iter) or scale the data as shown in:\n",
      "    https://scikit-learn.org/stable/modules/preprocessing.html\n",
      "Please also refer to the documentation for alternative solver options:\n",
      "    https://scikit-learn.org/stable/modules/linear_model.html#logistic-regression\n",
      "  n_iter_i = _check_optimize_result(\n"
     ]
    },
    {
     "data": {
      "text/html": [
       "<style>#sk-container-id-1 {color: black;}#sk-container-id-1 pre{padding: 0;}#sk-container-id-1 div.sk-toggleable {background-color: white;}#sk-container-id-1 label.sk-toggleable__label {cursor: pointer;display: block;width: 100%;margin-bottom: 0;padding: 0.3em;box-sizing: border-box;text-align: center;}#sk-container-id-1 label.sk-toggleable__label-arrow:before {content: \"▸\";float: left;margin-right: 0.25em;color: #696969;}#sk-container-id-1 label.sk-toggleable__label-arrow:hover:before {color: black;}#sk-container-id-1 div.sk-estimator:hover label.sk-toggleable__label-arrow:before {color: black;}#sk-container-id-1 div.sk-toggleable__content {max-height: 0;max-width: 0;overflow: hidden;text-align: left;background-color: #f0f8ff;}#sk-container-id-1 div.sk-toggleable__content pre {margin: 0.2em;color: black;border-radius: 0.25em;background-color: #f0f8ff;}#sk-container-id-1 input.sk-toggleable__control:checked~div.sk-toggleable__content {max-height: 200px;max-width: 100%;overflow: auto;}#sk-container-id-1 input.sk-toggleable__control:checked~label.sk-toggleable__label-arrow:before {content: \"▾\";}#sk-container-id-1 div.sk-estimator input.sk-toggleable__control:checked~label.sk-toggleable__label {background-color: #d4ebff;}#sk-container-id-1 div.sk-label input.sk-toggleable__control:checked~label.sk-toggleable__label {background-color: #d4ebff;}#sk-container-id-1 input.sk-hidden--visually {border: 0;clip: rect(1px 1px 1px 1px);clip: rect(1px, 1px, 1px, 1px);height: 1px;margin: -1px;overflow: hidden;padding: 0;position: absolute;width: 1px;}#sk-container-id-1 div.sk-estimator {font-family: monospace;background-color: #f0f8ff;border: 1px dotted black;border-radius: 0.25em;box-sizing: border-box;margin-bottom: 0.5em;}#sk-container-id-1 div.sk-estimator:hover {background-color: #d4ebff;}#sk-container-id-1 div.sk-parallel-item::after {content: \"\";width: 100%;border-bottom: 1px solid gray;flex-grow: 1;}#sk-container-id-1 div.sk-label:hover label.sk-toggleable__label {background-color: #d4ebff;}#sk-container-id-1 div.sk-serial::before {content: \"\";position: absolute;border-left: 1px solid gray;box-sizing: border-box;top: 0;bottom: 0;left: 50%;z-index: 0;}#sk-container-id-1 div.sk-serial {display: flex;flex-direction: column;align-items: center;background-color: white;padding-right: 0.2em;padding-left: 0.2em;position: relative;}#sk-container-id-1 div.sk-item {position: relative;z-index: 1;}#sk-container-id-1 div.sk-parallel {display: flex;align-items: stretch;justify-content: center;background-color: white;position: relative;}#sk-container-id-1 div.sk-item::before, #sk-container-id-1 div.sk-parallel-item::before {content: \"\";position: absolute;border-left: 1px solid gray;box-sizing: border-box;top: 0;bottom: 0;left: 50%;z-index: -1;}#sk-container-id-1 div.sk-parallel-item {display: flex;flex-direction: column;z-index: 1;position: relative;background-color: white;}#sk-container-id-1 div.sk-parallel-item:first-child::after {align-self: flex-end;width: 50%;}#sk-container-id-1 div.sk-parallel-item:last-child::after {align-self: flex-start;width: 50%;}#sk-container-id-1 div.sk-parallel-item:only-child::after {width: 0;}#sk-container-id-1 div.sk-dashed-wrapped {border: 1px dashed gray;margin: 0 0.4em 0.5em 0.4em;box-sizing: border-box;padding-bottom: 0.4em;background-color: white;}#sk-container-id-1 div.sk-label label {font-family: monospace;font-weight: bold;display: inline-block;line-height: 1.2em;}#sk-container-id-1 div.sk-label-container {text-align: center;}#sk-container-id-1 div.sk-container {/* jupyter's `normalize.less` sets `[hidden] { display: none; }` but bootstrap.min.css set `[hidden] { display: none !important; }` so we also need the `!important` here to be able to override the default hidden behavior on the sphinx rendered scikit-learn.org. See: https://github.com/scikit-learn/scikit-learn/issues/21755 */display: inline-block !important;position: relative;}#sk-container-id-1 div.sk-text-repr-fallback {display: none;}</style><div id=\"sk-container-id-1\" class=\"sk-top-container\"><div class=\"sk-text-repr-fallback\"><pre>LogisticRegression()</pre><b>In a Jupyter environment, please rerun this cell to show the HTML representation or trust the notebook. <br />On GitHub, the HTML representation is unable to render, please try loading this page with nbviewer.org.</b></div><div class=\"sk-container\" hidden><div class=\"sk-item\"><div class=\"sk-estimator sk-toggleable\"><input class=\"sk-toggleable__control sk-hidden--visually\" id=\"sk-estimator-id-1\" type=\"checkbox\" checked><label for=\"sk-estimator-id-1\" class=\"sk-toggleable__label sk-toggleable__label-arrow\">LogisticRegression</label><div class=\"sk-toggleable__content\"><pre>LogisticRegression()</pre></div></div></div></div></div>"
      ],
      "text/plain": [
       "LogisticRegression()"
      ]
     },
     "execution_count": 12,
     "metadata": {},
     "output_type": "execute_result"
    }
   ],
   "source": [
    "model.fit(train_data,train_labels)"
   ]
  },
  {
   "cell_type": "code",
   "execution_count": 13,
   "id": "019e3300",
   "metadata": {},
   "outputs": [],
   "source": [
    "y_prediction = model.predict(test_data)"
   ]
  },
  {
   "cell_type": "code",
   "execution_count": 14,
   "id": "ccd539ef",
   "metadata": {},
   "outputs": [
    {
     "name": "stdout",
     "output_type": "stream",
     "text": [
      "Accuracy: 0.96\n"
     ]
    }
   ],
   "source": [
    "accuracy = accuracy_score(test_labels,y_prediction)\n",
    "print(f'Accuracy: {accuracy:.2f}')"
   ]
  },
  {
   "cell_type": "code",
   "execution_count": 15,
   "id": "da1d109b",
   "metadata": {},
   "outputs": [
    {
     "name": "stdout",
     "output_type": "stream",
     "text": [
      "[[46  2]\n",
      " [ 2 40]]\n"
     ]
    }
   ],
   "source": [
    "confusion_matrix = confusion_matrix(test_labels,y_prediction)\n",
    "print(confusion_matrix)"
   ]
  },
  {
   "cell_type": "code",
   "execution_count": 16,
   "id": "dce487b6",
   "metadata": {},
   "outputs": [
    {
     "data": {
      "image/png": "[encoded data removed]",
      "text/plain": [
       "<Figure size 1000x700 with 2 Axes>"
      ]
     },
     "metadata": {},
     "output_type": "display_data"
    },
    {
     "name": "stdout",
     "output_type": "stream",
     "text": [
      "Weighted F1 Score: 0.96\n",
      "Classification Report:\n",
      "              precision    recall  f1-score   support\n",
      "\n",
      "   Open Door       0.96      0.96      0.96        48\n",
      "   Rub Hands       0.95      0.95      0.95        42\n",
      "\n",
      "    accuracy                           0.96        90\n",
      "   macro avg       0.96      0.96      0.96        90\n",
      "weighted avg       0.96      0.96      0.96        90\n",
      "\n"
     ]
    }
   ],
   "source": [
    "\n",
    "\n",
    "\n",
    "# Plotting Confusion Matrix\n",
    "plt.figure(figsize=(10, 7))\n",
    "sns.heatmap(confusion_matrix, annot=True, fmt='d', cmap='Blues', xticklabels=['Open Door', 'Rub Hands'], yticklabels=['Open Door', 'Rub Hands'])\n",
    "plt.ylabel('Actual')\n",
    "plt.xlabel('Predicted')\n",
    "plt.title('Confusion Matrix')\n",
    "plt.show()\n",
    "\n",
    "# F1 Score and Classification Report\n",
    "f1 = f1_score(test_labels, y_prediction, average='weighted')\n",
    "print(f'Weighted F1 Score: {f1:.2f}')\n",
    "print('Classification Report:')\n",
    "print(classification_report(test_labels, y_prediction, target_names=['Open Door', 'Rub Hands']))\n",
    "\n"
   ]
  },
  {
   "cell_type": "markdown",
   "id": "9da9a139",
   "metadata": {},
   "source": [
    "### Use Our Logistic Regression Model"
   ]
  },
  {
   "cell_type": "code",
   "execution_count": 24,
   "id": "d04de2df",
   "metadata": {},
   "outputs": [],
   "source": [
    "# # Importing libraries \n",
    "# import numpy as np \n",
    "# import pandas as pd \n",
    "# from sklearn.model_selection import train_test_split \n",
    "# import warnings \n",
    "# warnings.filterwarnings( \"ignore\" ) \n",
    "\n",
    "# # to compare our model's accuracy with sklearn model \n",
    "# from sklearn.linear_model import LogisticRegression \n",
    "# # Logistic Regression \n",
    "# class LogitRegression() : \n",
    "#     def __init__( self, learning_rate, iterations,lambda_param ) : \n",
    "#         self.learning_rate = learning_rate \n",
    "#         self.iterations = iterations \n",
    "#         self.lambda_param=lambda_param\n",
    "\n",
    "\n",
    "\n",
    "\n",
    "#     def fit( self, X, Y ) :\n",
    "#         # no_of_training_examples, no_of_features\n",
    "#         self.m, self.n = X.shape\n",
    "#         # weight initialization\n",
    "#         self.W = np.zeros( self.n ) \n",
    "#         self.b = 0\n",
    "#         self.X = X \n",
    "#         self.Y = Y\n",
    "#         # gradient descent learning \n",
    "#         for i in range( self.iterations ) :\n",
    "#             self.update_weights() \n",
    "#         return self\n",
    "\n",
    "    \n",
    "\n",
    "    \n",
    "\n",
    "# #Helper function to update weights in gradient descent \n",
    "\n",
    "#     def update_weights( self ) :\t\t \n",
    "#         A = 1 / ( 1 + np.exp( - ( self.X.dot( self.W ) + self.b ) ) ) \n",
    "\n",
    "#         # calculate gradients\t\t \n",
    "#         tmp = ( A - self.Y.T )\t\t \n",
    "#         #it is converting 2-D array to 1-D array\n",
    "#         tmp = np.reshape( tmp, self.m )\t\t \n",
    "\n",
    "#         dW = np.dot( self.X.T, tmp ) / self.m\n",
    "#         db = np.sum( tmp ) / self.m \n",
    "\n",
    "#         # update weights\t \n",
    "       \n",
    "#         self.W = self.W * (1 - self.learning_rate * self.lambda_param/self.m) - self.learning_rate * dW\n",
    "#         self.b = self.b - self.learning_rate * db \n",
    "\n",
    "#         return self\n",
    "\n",
    "\n",
    "\n",
    "\n",
    "# # Hypothetical function h( x ) \n",
    "\n",
    "#     def predict( self, X ) :\n",
    "#         Z = 1 / ( 1 + np.exp( - ( X.dot( self.W ) ) ) )\n",
    "#         Y = np.where( Z > 0.5, 1, 0 )\n",
    "#         return Y \n",
    "\n",
    "\n",
    "# # Driver code \n",
    "\n",
    "# def main() : \n",
    "\n",
    "   \n",
    "\n",
    "#     # Model training \n",
    "#     model = LogitRegression( learning_rate = 0.01, iterations = 1000,lambda_param=1000) \n",
    "\n",
    "#     model.fit( train_data,train_labels ) \n",
    "# #     model1 = LogisticRegression() \n",
    "# #     model1.fit( X_train, Y_train) \n",
    "\n",
    "#     # Prediction on test set \n",
    "#     Y_pred = model.predict( test_data )\n",
    "    \n",
    "    \n",
    "\n",
    "#     accuracy = accuracy_score(test_labels,Y_pred)\n",
    "\n",
    "#     print(f'Accuracy: {accuracy:.2f}')\n",
    "\n",
    "    \n",
    "\n",
    "\n",
    "# if __name__ == \"__main__\" :\t \n",
    "# \tmain()\n"
   ]
  },
  {
   "cell_type": "code",
   "execution_count": null,
   "id": "e98a0d47",
   "metadata": {},
   "outputs": [],
   "source": []
  },
  {
   "cell_type": "code",
   "execution_count": null,
   "id": "f29b7ef4",
   "metadata": {},
   "outputs": [],
   "source": []
  }
 ],
 "metadata": {
  "kernelspec": {
   "display_name": "Python 3 (ipykernel)",
   "language": "python",
   "name": "python3"
  },
  "language_info": {
   "codemirror_mode": {
    "name": "ipython",
    "version": 3
   },
   "file_extension": ".py",
   "mimetype": "text/x-python",
   "name": "python",
   "nbconvert_exporter": "python",
   "pygments_lexer": "ipython3",
   "version": "3.8.19"
  }
 },
 "nbformat": 4,
 "nbformat_minor": 5
}
